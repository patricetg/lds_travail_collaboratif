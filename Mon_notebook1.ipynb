{
 "cells": [
  {
   "cell_type": "code",
   "execution_count": 12,
   "id": "dc0162a1-6967-4bc0-92be-a4d4f4e7f984",
   "metadata": {},
   "outputs": [
    {
     "name": "stdout",
     "output_type": "stream",
     "text": [
      "Multuplication de \n",
      "6\n"
     ]
    }
   ],
   "source": [
    "# Multiplication de 2 par 3 Markdown\n",
    "print(\"Multuplication de \")\n",
    "resultat_mul = 2*3\n",
    "# Diviser 9 par 2\n",
    "resultat_div = 9 / 3 \n",
    "\n",
    "print(resultat_mul)"
   ]
  },
  {
   "cell_type": "code",
   "execution_count": 6,
   "id": "e2acadb5-d68f-45c4-b769-974145096b55",
   "metadata": {},
   "outputs": [
    {
     "data": {
      "text/plain": [
       "3.0"
      ]
     },
     "execution_count": 6,
     "metadata": {},
     "output_type": "execute_result"
    }
   ],
   "source": [
    "# Diviser 9 par 2\n",
    "9 / 3 "
   ]
  },
  {
   "cell_type": "markdown",
   "id": "cac16a18-928a-45b0-920f-8f6355adff63",
   "metadata": {},
   "source": [
    "Voici mon commentaire, on va voir les opérations mathématiques dans le cpurs de python"
   ]
  },
  {
   "cell_type": "code",
   "execution_count": 11,
   "id": "d73c3a1c-b3b2-44b6-b801-f7a9d3336f97",
   "metadata": {},
   "outputs": [
    {
     "name": "stdout",
     "output_type": "stream",
     "text": [
      "Le contenu que je souhaite afficher\n",
      "Comment vous allez ?\n"
     ]
    }
   ],
   "source": [
    "print(\"Le contenu que je souhaite afficher\")\n",
    "print(\"Comment vous allez ?\")"
   ]
  },
  {
   "cell_type": "code",
   "execution_count": 6,
   "id": "f6f2146b-de6b-499f-91c8-4c41e70a0d0b",
   "metadata": {},
   "outputs": [
    {
     "data": {
      "text/plain": [
       "3.0"
      ]
     },
     "execution_count": 6,
     "metadata": {},
     "output_type": "execute_result"
    }
   ],
   "source": [
    "# Diviser 9 par 2\n",
    "9 / 3 "
   ]
  },
  {
   "cell_type": "code",
   "execution_count": null,
   "id": "6747c71b-734e-4165-8e4c-c9bdc29982dc",
   "metadata": {},
   "outputs": [],
   "source": []
  }
 ],
 "metadata": {
  "kernelspec": {
   "display_name": "Python 3 (ipykernel)",
   "language": "python",
   "name": "python3"
  },
  "language_info": {
   "codemirror_mode": {
    "name": "ipython",
    "version": 3
   },
   "file_extension": ".py",
   "mimetype": "text/x-python",
   "name": "python",
   "nbconvert_exporter": "python",
   "pygments_lexer": "ipython3",
   "version": "3.12.8"
  }
 },
 "nbformat": 4,
 "nbformat_minor": 5
}
